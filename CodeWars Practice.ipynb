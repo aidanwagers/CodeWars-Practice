{
 "cells": [
  {
   "cell_type": "markdown",
   "id": "cfda3a92",
   "metadata": {},
   "source": [
    "# Multiples of 3 or 5"
   ]
  },
  {
   "cell_type": "markdown",
   "id": "967ffea3",
   "metadata": {},
   "source": [
    "###### Instructions"
   ]
  },
  {
   "cell_type": "markdown",
   "id": "8e754f97",
   "metadata": {},
   "source": [
    "If we list all the natural numbers below 10 that are multiples of 3 or 5, we get 3, 5, 6 and 9. The sum of these multiples is 23.\n",
    "\n",
    "Finish the solution so that it returns the sum of all the multiples of 3 or 5 below the number passed in.\n",
    "\n",
    "Additionally, if the number is negative, return 0.\n",
    "\n",
    "Note: If the number is a multiple of both 3 and 5, only count it once."
   ]
  },
  {
   "cell_type": "markdown",
   "id": "cac05d44",
   "metadata": {},
   "source": [
    "### Solution - Passed!"
   ]
  },
  {
   "cell_type": "code",
   "execution_count": 10,
   "id": "0ed45aac",
   "metadata": {},
   "outputs": [],
   "source": [
    "def solution(number):\n",
    "    num_list = []\n",
    "    if number <= 0:\n",
    "        return(0)\n",
    "    for num in range(1,number):\n",
    "        if num < number and num%3==0 and num%5==0:\n",
    "            num_list.append(num)\n",
    "            continue\n",
    "        if num < number and num%3==0:\n",
    "            num_list.append(num)\n",
    "        if num < number and num%5==0:\n",
    "            num_list.append(num)\n",
    "    print((num_list))"
   ]
  },
  {
   "cell_type": "markdown",
   "id": "a0a65356",
   "metadata": {},
   "source": [
    "# Split Strings"
   ]
  },
  {
   "cell_type": "markdown",
   "id": "e1616583",
   "metadata": {},
   "source": [
    "Complete the solution so that it splits the string into pairs of two characters. If the string contains an odd number of characters then it should replace the missing second character of the final pair with an underscore ('_')."
   ]
  },
  {
   "cell_type": "markdown",
   "id": "0369c7b3",
   "metadata": {},
   "source": [
    "### Solution - Passed"
   ]
  },
  {
   "cell_type": "code",
   "execution_count": 2,
   "id": "34259786",
   "metadata": {},
   "outputs": [],
   "source": [
    "def solution(s):\n",
    "\n",
    "    abc = []\n",
    "    \n",
    "    for x in range (0,len(s)):\n",
    "        try:\n",
    "            s2 = s[x+1]\n",
    "        except IndexError:\n",
    "            s2 = \"_\"\n",
    "        s1 = s[x]\n",
    "        stri = s1 + s2\n",
    "        \n",
    "        if x == 0 or x%2 == 0:\n",
    "            abc.append(stri)\n",
    "    return(abc)"
   ]
  },
  {
   "cell_type": "markdown",
   "id": "0a6146e2",
   "metadata": {},
   "source": [
    "# Disemvowel Trolls"
   ]
  },
  {
   "cell_type": "markdown",
   "id": "e4d933b6",
   "metadata": {},
   "source": [
    "Trolls are attacking your comment section!\n",
    "\n",
    "A common way to deal with this situation is to remove all of the vowels from the trolls' comments, neutralizing the threat.\n",
    "\n",
    "Your task is to write a function that takes a string and return a new string with all vowels removed.\n",
    "\n",
    "For example, the string \"This website is for losers LOL!\" would become \"Ths wbst s fr lsrs LL!\".\n",
    "\n",
    "Note: for this kata y isn't considered a vowel."
   ]
  },
  {
   "cell_type": "markdown",
   "id": "c6dc34b9",
   "metadata": {},
   "source": [
    "### Solution - Passed"
   ]
  },
  {
   "cell_type": "code",
   "execution_count": null,
   "id": "27ef8152",
   "metadata": {},
   "outputs": [],
   "source": [
    "import re\n",
    "def disemvowel(string_):\n",
    "    string_ = re.sub('[aeiouAEIOU]',\"\",string_)\n",
    "    return string_"
   ]
  },
  {
   "cell_type": "markdown",
   "id": "9620b978",
   "metadata": {},
   "source": [
    "# Find the odd int"
   ]
  },
  {
   "cell_type": "markdown",
   "id": "917ccc06",
   "metadata": {},
   "source": [
    "Given an array of integers, find the one that appears an odd number of times.\n",
    "\n",
    "There will always be only one integer that appears an odd number of times."
   ]
  },
  {
   "cell_type": "markdown",
   "id": "01fdce52",
   "metadata": {},
   "source": [
    "### Solution - Passed"
   ]
  },
  {
   "cell_type": "code",
   "execution_count": 19,
   "id": "ab5141e4",
   "metadata": {},
   "outputs": [],
   "source": [
    "def find_it(seq):\n",
    "    values = set(seq)\n",
    "    for i in values:\n",
    "        num = seq.count(i)\n",
    "        if num % 2 != 0:\n",
    "            return i\n",
    "    return None"
   ]
  },
  {
   "cell_type": "markdown",
   "id": "566e490c",
   "metadata": {},
   "source": [
    "# Convert string to camel case"
   ]
  },
  {
   "cell_type": "code",
   "execution_count": 26,
   "id": "04a4235f",
   "metadata": {},
   "outputs": [],
   "source": [
    "def to_camel_case(text):\n",
    "    if not text:\n",
    "        return(\"\")\n",
    "    \n",
    "    \n",
    "    \n",
    "    return(text)\n",
    "    "
   ]
  },
  {
   "cell_type": "code",
   "execution_count": 27,
   "id": "eeb7eb8e",
   "metadata": {},
   "outputs": [
    {
     "ename": "TypeError",
     "evalue": "'str' object does not support item assignment",
     "output_type": "error",
     "traceback": [
      "\u001b[1;31m---------------------------------------------------------------------------\u001b[0m",
      "\u001b[1;31mTypeError\u001b[0m                                 Traceback (most recent call last)",
      "\u001b[1;32mC:\\Users\\AIDAN~1.WAG\\AppData\\Local\\Temp/ipykernel_9584/3376971585.py\u001b[0m in \u001b[0;36m<module>\u001b[1;34m\u001b[0m\n\u001b[1;32m----> 1\u001b[1;33m \u001b[0mprint\u001b[0m\u001b[1;33m(\u001b[0m\u001b[0mto_camel_case\u001b[0m\u001b[1;33m(\u001b[0m\u001b[1;34m\"the_stealth_warrior\"\u001b[0m\u001b[1;33m)\u001b[0m\u001b[1;33m)\u001b[0m\u001b[1;33m\u001b[0m\u001b[1;33m\u001b[0m\u001b[0m\n\u001b[0m",
      "\u001b[1;32mC:\\Users\\AIDAN~1.WAG\\AppData\\Local\\Temp/ipykernel_9584/4291273514.py\u001b[0m in \u001b[0;36mto_camel_case\u001b[1;34m(text)\u001b[0m\n\u001b[0;32m      4\u001b[0m     \u001b[1;32mfor\u001b[0m \u001b[0ml\u001b[0m \u001b[1;32min\u001b[0m \u001b[0mrange\u001b[0m\u001b[1;33m(\u001b[0m\u001b[1;36m0\u001b[0m\u001b[1;33m,\u001b[0m\u001b[0mlen\u001b[0m\u001b[1;33m(\u001b[0m\u001b[0mtext\u001b[0m\u001b[1;33m)\u001b[0m\u001b[1;33m)\u001b[0m\u001b[1;33m:\u001b[0m\u001b[1;33m\u001b[0m\u001b[1;33m\u001b[0m\u001b[0m\n\u001b[0;32m      5\u001b[0m         \u001b[1;32mif\u001b[0m \u001b[0mtext\u001b[0m\u001b[1;33m[\u001b[0m\u001b[0ml\u001b[0m\u001b[1;33m]\u001b[0m \u001b[1;33m==\u001b[0m \u001b[1;34m\"_\"\u001b[0m \u001b[1;32mor\u001b[0m \u001b[0mtext\u001b[0m\u001b[1;33m[\u001b[0m\u001b[0ml\u001b[0m\u001b[1;33m]\u001b[0m \u001b[1;33m==\u001b[0m \u001b[1;34m\"-\"\u001b[0m\u001b[1;33m:\u001b[0m\u001b[1;33m\u001b[0m\u001b[1;33m\u001b[0m\u001b[0m\n\u001b[1;32m----> 6\u001b[1;33m             \u001b[0mtext\u001b[0m\u001b[1;33m[\u001b[0m\u001b[0ml\u001b[0m\u001b[1;33m+\u001b[0m\u001b[1;36m1\u001b[0m\u001b[1;33m]\u001b[0m \u001b[1;33m=\u001b[0m \u001b[0mtext\u001b[0m\u001b[1;33m[\u001b[0m\u001b[0ml\u001b[0m\u001b[1;33m+\u001b[0m\u001b[1;36m1\u001b[0m\u001b[1;33m]\u001b[0m\u001b[1;33m.\u001b[0m\u001b[0mupper\u001b[0m\u001b[1;33m(\u001b[0m\u001b[1;33m)\u001b[0m\u001b[1;33m\u001b[0m\u001b[1;33m\u001b[0m\u001b[0m\n\u001b[0m\u001b[0;32m      7\u001b[0m             \u001b[0mtext\u001b[0m\u001b[1;33m[\u001b[0m\u001b[0ml\u001b[0m\u001b[1;33m]\u001b[0m \u001b[1;33m=\u001b[0m \u001b[1;34m\"\"\u001b[0m\u001b[1;33m\u001b[0m\u001b[1;33m\u001b[0m\u001b[0m\n\u001b[0;32m      8\u001b[0m     \u001b[1;32mreturn\u001b[0m\u001b[1;33m(\u001b[0m\u001b[0mtext\u001b[0m\u001b[1;33m)\u001b[0m\u001b[1;33m\u001b[0m\u001b[1;33m\u001b[0m\u001b[0m\n",
      "\u001b[1;31mTypeError\u001b[0m: 'str' object does not support item assignment"
     ]
    }
   ],
   "source": [
    "print(to_camel_case(\"the_stealth_warrior\"))"
   ]
  },
  {
   "cell_type": "code",
   "execution_count": null,
   "id": "691d76a8",
   "metadata": {},
   "outputs": [],
   "source": []
  }
 ],
 "metadata": {
  "kernelspec": {
   "display_name": "Python 3 (ipykernel)",
   "language": "python",
   "name": "python3"
  },
  "language_info": {
   "codemirror_mode": {
    "name": "ipython",
    "version": 3
   },
   "file_extension": ".py",
   "mimetype": "text/x-python",
   "name": "python",
   "nbconvert_exporter": "python",
   "pygments_lexer": "ipython3",
   "version": "3.9.7"
  }
 },
 "nbformat": 4,
 "nbformat_minor": 5
}
