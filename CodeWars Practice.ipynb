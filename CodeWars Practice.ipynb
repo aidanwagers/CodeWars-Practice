{
 "cells": [
  {
   "cell_type": "markdown",
   "id": "cfda3a92",
   "metadata": {},
   "source": [
    "# Multiples of 3 or 5"
   ]
  },
  {
   "cell_type": "markdown",
   "id": "967ffea3",
   "metadata": {},
   "source": [
    "###### Instructions"
   ]
  },
  {
   "cell_type": "markdown",
   "id": "8e754f97",
   "metadata": {},
   "source": [
    "If we list all the natural numbers below 10 that are multiples of 3 or 5, we get 3, 5, 6 and 9. The sum of these multiples is 23.\n",
    "\n",
    "Finish the solution so that it returns the sum of all the multiples of 3 or 5 below the number passed in.\n",
    "\n",
    "Additionally, if the number is negative, return 0.\n",
    "\n",
    "Note: If the number is a multiple of both 3 and 5, only count it once."
   ]
  },
  {
   "cell_type": "markdown",
   "id": "cac05d44",
   "metadata": {},
   "source": [
    "### Solution"
   ]
  },
  {
   "cell_type": "code",
   "execution_count": 10,
   "id": "0ed45aac",
   "metadata": {},
   "outputs": [],
   "source": [
    "def solution(number):\n",
    "    num_list = []\n",
    "    if number <= 0:\n",
    "        return(0)\n",
    "    for num in range(1,number):\n",
    "        if num < number and num%3==0 and num%5==0:\n",
    "            num_list.append(num)\n",
    "            continue\n",
    "        if num < number and num%3==0:\n",
    "            num_list.append(num)\n",
    "        if num < number and num%5==0:\n",
    "            num_list.append(num)\n",
    "    print((num_list))"
   ]
  },
  {
   "cell_type": "markdown",
   "id": "f35238ac",
   "metadata": {},
   "source": [
    "# "
   ]
  }
 ],
 "metadata": {
  "kernelspec": {
   "display_name": "Python 3 (ipykernel)",
   "language": "python",
   "name": "python3"
  },
  "language_info": {
   "codemirror_mode": {
    "name": "ipython",
    "version": 3
   },
   "file_extension": ".py",
   "mimetype": "text/x-python",
   "name": "python",
   "nbconvert_exporter": "python",
   "pygments_lexer": "ipython3",
   "version": "3.9.12"
  }
 },
 "nbformat": 4,
 "nbformat_minor": 5
}
